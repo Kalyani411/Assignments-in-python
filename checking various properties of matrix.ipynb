{
 "cells": [
  {
   "cell_type": "markdown",
   "id": "640601e3",
   "metadata": {},
   "source": [
    "# checking various properties of  python\n"
   ]
  },
  {
   "cell_type": "code",
   "execution_count": 2,
   "id": "5d79be3a",
   "metadata": {},
   "outputs": [],
   "source": [
    "import numpy as np"
   ]
  },
  {
   "cell_type": "code",
   "execution_count": 8,
   "id": "8723cb67",
   "metadata": {},
   "outputs": [
    {
     "ename": "IndentationError",
     "evalue": "unexpected indent (3319506447.py, line 7)",
     "output_type": "error",
     "traceback": [
      "\u001b[1;36m  Input \u001b[1;32mIn [8]\u001b[1;36m\u001b[0m\n\u001b[1;33m    if row==col:\u001b[0m\n\u001b[1;37m    ^\u001b[0m\n\u001b[1;31mIndentationError\u001b[0m\u001b[1;31m:\u001b[0m unexpected indent\n"
     ]
    }
   ],
   "source": [
    "A=np.array([[1, 5, 20], [5, 100, -3], [20, -3, 17]])\n",
    "def properties(A):\n",
    "     row,col=A.shape\n",
    "print(\"The given Matrix is\\n\",A)\n",
    "print(\"The Determinant of the matrix is\",round(np.linalg.det(A)))\n",
    "print(\"The Rank of the matrix is; \",np.linalg.matrix_rank(A))\n",
    "    if row==col:\n",
    "        print(\"The given matrix is square matrix\")\n",
    "    else:\n",
    "        print(\"The given matrix is not square matrix\")\n",
    "    if (A==A.T).all():\n",
    "        print(\"The given matrix is symmetric matrix\")\n",
    "    else:\n",
    "        print(\"The given matrix is not symmetric matrix\")\n",
    "    if (A==A*A).all():\n",
    "        print(\"The given matrix is idempotent matrix\")\n",
    "    else:\n",
    "        print(\"The given matrix is not idempotent matrix\")\n",
    "    if (np.linalg.det(A)==0).all():\n",
    "        print(\"The given matrix is singular matrix\")\n",
    "    else:\n",
    "        print(\"The given matrix is nonsingular matrix\")\n",
    "    if (np.linalg.inv(A)==A.T).all():\n",
    "            print(\"The given matrix is orthogonal matrix\")\n",
    "    else\n",
    "            print(\"The given matrix is not orthogonal matrix\")      \n",
    "         \n",
    "   "
   ]
  },
  {
   "cell_type": "code",
   "execution_count": 2,
   "id": "107111b1",
   "metadata": {},
   "outputs": [
    {
     "ename": "IndentationError",
     "evalue": "unexpected indent (2601508539.py, line 5)",
     "output_type": "error",
     "traceback": [
      "\u001b[1;36m  Input \u001b[1;32mIn [2]\u001b[1;36m\u001b[0m\n\u001b[1;33m    if row==col:\u001b[0m\n\u001b[1;37m    ^\u001b[0m\n\u001b[1;31mIndentationError\u001b[0m\u001b[1;31m:\u001b[0m unexpected indent\n"
     ]
    }
   ],
   "source": []
  },
  {
   "cell_type": "code",
   "execution_count": null,
   "id": "7386684e",
   "metadata": {},
   "outputs": [],
   "source": []
  }
 ],
 "metadata": {
  "kernelspec": {
   "display_name": "Python 3 (ipykernel)",
   "language": "python",
   "name": "python3"
  },
  "language_info": {
   "codemirror_mode": {
    "name": "ipython",
    "version": 3
   },
   "file_extension": ".py",
   "mimetype": "text/x-python",
   "name": "python",
   "nbconvert_exporter": "python",
   "pygments_lexer": "ipython3",
   "version": "3.10.2"
  }
 },
 "nbformat": 4,
 "nbformat_minor": 5
}
