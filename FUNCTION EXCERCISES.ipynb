{
 "cells": [
  {
   "cell_type": "markdown",
   "id": "088f5aa0",
   "metadata": {},
   "source": [
    "# Python Function Excercises\n",
    "1.How to define and call a function in Python\n",
    "\n",
    "2.Significance of Indentation (Space) in Python\n",
    "\n",
    "3.How Function Return Value?\n",
    "\n",
    "4.Arguments in Functions\n",
    "\n",
    "Q.1.Write a Python function to find the Max of three numbers."
   ]
  },
  {
   "cell_type": "code",
   "execution_count": 1,
   "id": "d6aeea8d",
   "metadata": {},
   "outputs": [
    {
     "data": {
      "text/plain": [
       "['P', 'r', 'a', 'f', 'u', 'l']"
      ]
     },
     "execution_count": 1,
     "metadata": {},
     "output_type": "execute_result"
    }
   ],
   "source": [
    "def maxi(studentname):\n",
    "    a=[]\n",
    "    for char in studentname:\n",
    "        a.append(char)\n",
    "    return a\n",
    "\n",
    "maxi('Praful')"
   ]
  },
  {
   "cell_type": "code",
   "execution_count": 2,
   "id": "5940f74d",
   "metadata": {},
   "outputs": [
    {
     "data": {
      "text/plain": [
       "18"
      ]
     },
     "execution_count": 2,
     "metadata": {},
     "output_type": "execute_result"
    }
   ],
   "source": [
    "def fun1(x):\n",
    "    return x**2+2*x+3\n",
    "\n",
    "fun1(3)"
   ]
  },
  {
   "cell_type": "code",
   "execution_count": 3,
   "id": "055cfbfe",
   "metadata": {},
   "outputs": [
    {
     "data": {
      "text/plain": [
       "(6, 8, 10)"
      ]
     },
     "execution_count": 3,
     "metadata": {},
     "output_type": "execute_result"
    }
   ],
   "source": [
    "def assign2(a,b,c):\n",
    "    a=2*a\n",
    "    b=2*b\n",
    "    c*=2\n",
    "    return a,b,c\n",
    "\n",
    "assign2(3,4,5)"
   ]
  },
  {
   "cell_type": "code",
   "execution_count": 4,
   "id": "a225a2f9",
   "metadata": {},
   "outputs": [
    {
     "data": {
      "text/plain": [
       "[6, 8, 10]"
      ]
     },
     "execution_count": 4,
     "metadata": {},
     "output_type": "execute_result"
    }
   ],
   "source": [
    "def applist(list1,f):\n",
    "    return [f(i) for i in list1]\n",
    "\n",
    "l1=[3,4,5]\n",
    "\n",
    "applist(l1,lambda x: x*2)"
   ]
  },
  {
   "cell_type": "code",
   "execution_count": 5,
   "id": "96ea7cf0",
   "metadata": {},
   "outputs": [
    {
     "data": {
      "text/plain": [
       "<function __main__.<lambda>(x)>"
      ]
     },
     "execution_count": 5,
     "metadata": {},
     "output_type": "execute_result"
    }
   ],
   "source": [
    "y = lambda x: x**2+2*x+3\n",
    "y"
   ]
  },
  {
   "cell_type": "code",
   "execution_count": 6,
   "id": "3f27f12e",
   "metadata": {},
   "outputs": [
    {
     "name": "stdout",
     "output_type": "stream",
     "text": [
      "Maximum number is  6\n",
      "Maximum number is  9\n"
     ]
    }
   ],
   "source": [
    "def max2(a,b):\n",
    "    if a<b:\n",
    "        return(b)\n",
    "    else:\n",
    "        return(a)\n",
    "\n",
    "print(\"Maximum number is \",max2(3,6))\n",
    "\n",
    "def max3(x,y,z):\n",
    "    return(max2(x,max2(y,z)))\n",
    "\n",
    "print(\"Maximum number is \",max3(3,9,7))"
   ]
  },
  {
   "cell_type": "code",
   "execution_count": 7,
   "id": "6bcee284",
   "metadata": {},
   "outputs": [
    {
     "name": "stdout",
     "output_type": "stream",
     "text": [
      "Maximum number is  3\n",
      "Maximum number is  8\n"
     ]
    }
   ],
   "source": [
    "def max2(a,b):\n",
    "    if a<b:\n",
    "        print(\"Maximum number is \",b)\n",
    "    else:\n",
    "        print(\"Maximum number is \",a)\n",
    "    \n",
    "max2(2,3)\n",
    "\n",
    "def max3(x,y,z):\n",
    "    if x>y and x>z:\n",
    "        print(\"Maximum number is \",x)\n",
    "    elif y>z:\n",
    "        print(\"Maximum number is \",y)\n",
    "    else:\n",
    "        print(\"Maximum number is \",z)\n",
    "            \n",
    "max3(6,3,8)"
   ]
  },
  {
   "cell_type": "markdown",
   "id": "8aea47ff",
   "metadata": {},
   "source": [
    "# Q.2.Write a Python function to sum all the                    numbers in a list. Sample List : (8, 2, 3, 0, 7)          Expected Output : 20"
   ]
  },
  {
   "cell_type": "code",
   "execution_count": 13,
   "id": "23d54ca6",
   "metadata": {},
   "outputs": [
    {
     "name": "stdout",
     "output_type": "stream",
     "text": [
      "(8, 2, 3, -1, 7)\n",
      "-336\n"
     ]
    }
   ],
   "source": [
    "sample_list=(8, 2, 3, -1, 7)\n",
    "\n",
    "print(sample_list)\n",
    "\n",
    "def multi_list(list1):\n",
    "    total=1\n",
    "    for i in list1:\n",
    "        total*=i\n",
    "    return(total)\n",
    "\n",
    "print(multi_list(sample_list))"
   ]
  },
  {
   "cell_type": "markdown",
   "id": "020960b5",
   "metadata": {},
   "source": [
    "# Q.3.Write a Python function to multiply all the numbers in a list. Sample List : (8, 2, 3, -1, 7) Expected Output : -336"
   ]
  },
  {
   "cell_type": "code",
   "execution_count": 14,
   "id": "59c78051",
   "metadata": {},
   "outputs": [
    {
     "name": "stdout",
     "output_type": "stream",
     "text": [
      "(8, 2, 3, -1, 7)\n",
      "-336\n"
     ]
    }
   ],
   "source": [
    "sample_list=(8, 2, 3, -1, 7)\n",
    "\n",
    "print(sample_list)\n",
    "\n",
    "def multi_list(list1):\n",
    "    total=1\n",
    "    for i in list1:\n",
    "        total*=i\n",
    "    return(total)\n",
    "\n",
    "print(multi_list(sample_list))"
   ]
  },
  {
   "cell_type": "markdown",
   "id": "7bc81ede",
   "metadata": {},
   "source": [
    "# Q.4.Write a Python program to reverse a string.           Sample String : \"1234abcd\" Expected                   Output : \"dcba4321\""
   ]
  },
  {
   "cell_type": "code",
   "execution_count": 15,
   "id": "ab8bd71c",
   "metadata": {},
   "outputs": [
    {
     "data": {
      "text/plain": [
       "'dcba4321'"
      ]
     },
     "execution_count": 15,
     "metadata": {},
     "output_type": "execute_result"
    }
   ],
   "source": [
    "list1=\"1234abcd\"\n",
    "\n",
    "def reverse1(s):\n",
    "    t=''\n",
    "    for i in s:\n",
    "        t=i+t\n",
    "    return t\n",
    "\n",
    "reverse1(list1)"
   ]
  },
  {
   "cell_type": "code",
   "execution_count": 16,
   "id": "a8b71012",
   "metadata": {},
   "outputs": [],
   "source": [
    "t='4321'"
   ]
  },
  {
   "cell_type": "code",
   "execution_count": 17,
   "id": "56ba62c9",
   "metadata": {},
   "outputs": [
    {
     "data": {
      "text/plain": [
       "'dcba'"
      ]
     },
     "execution_count": 17,
     "metadata": {},
     "output_type": "execute_result"
    }
   ],
   "source": [
    "list1[7:3:-1]\n"
   ]
  },
  {
   "cell_type": "markdown",
   "id": "09ccf4df",
   "metadata": {},
   "source": [
    "# Q.5.Write a Python function to calculate the factorial of a number (a non-negative integer). The function accepts the number as an argument."
   ]
  },
  {
   "cell_type": "code",
   "execution_count": 18,
   "id": "cad6d14c",
   "metadata": {},
   "outputs": [
    {
     "data": {
      "text/plain": [
       "120"
      ]
     },
     "execution_count": 18,
     "metadata": {},
     "output_type": "execute_result"
    }
   ],
   "source": [
    "def fact1(n):\n",
    "    if n==0 or n==1:\n",
    "        return 1\n",
    "    else:\n",
    "        return n*fact1(n-1)\n",
    "\n",
    "fact1(5)"
   ]
  },
  {
   "cell_type": "code",
   "execution_count": 19,
   "id": "7f5dc33e",
   "metadata": {},
   "outputs": [
    {
     "data": {
      "text/plain": [
       "120"
      ]
     },
     "execution_count": 19,
     "metadata": {},
     "output_type": "execute_result"
    }
   ],
   "source": [
    "def fact1(n):\n",
    "    temp=1\n",
    "    for i in range(1,n+1):\n",
    "        temp*=i\n",
    "    return temp\n",
    "\n",
    "fact1(5)"
   ]
  },
  {
   "cell_type": "code",
   "execution_count": 20,
   "id": "20d809a5",
   "metadata": {},
   "outputs": [
    {
     "name": "stdout",
     "output_type": "stream",
     "text": [
      "1\n",
      "2\n",
      "3\n",
      "4\n",
      "5\n"
     ]
    }
   ],
   "source": [
    "for i in range(1,6):\n",
    "    print(i)"
   ]
  },
  {
   "cell_type": "code",
   "execution_count": 21,
   "id": "6580d673",
   "metadata": {},
   "outputs": [
    {
     "name": "stdout",
     "output_type": "stream",
     "text": [
      "Enter the number\t:5\n",
      "factorial of n  120\n"
     ]
    }
   ],
   "source": [
    "5!=1*2*3*4*5\n",
    "\n",
    "n=int(input(\"Enter the number\\t:\"))\n",
    "\n",
    "def fact(x):\n",
    "    if x<0:\n",
    "        return 0\n",
    "    elif x==1 or x==0:\n",
    "        return 1\n",
    "    else:\n",
    "        return(x*fact(x-1))\n",
    "        \n",
    "        \n",
    "print(\"factorial of n \", fact(n))"
   ]
  },
  {
   "cell_type": "markdown",
   "id": "0fbe9b1d",
   "metadata": {},
   "source": [
    "# Q.6.Write a Python function to check whether a number is in a given range."
   ]
  },
  {
   "cell_type": "code",
   "execution_count": 23,
   "id": "9795b910",
   "metadata": {},
   "outputs": [
    {
     "name": "stdout",
     "output_type": "stream",
     "text": [
      "Enter the number n\t:8\n",
      "Enter the number a\t:5\n",
      "Enter the number b\t:5\n",
      "8 is not in (5,5)\n"
     ]
    }
   ],
   "source": [
    "def is_in(x,y,z):\n",
    "    if x in range(y,z+1):\n",
    "        print(\"%d is in (%d,%d)\"%(x,y,z))\n",
    "    else:\n",
    "        print(\"%d is not in (%s,%s)\"%(x,y,z))\n",
    "\n",
    "n=int(input(\"Enter the number n\\t:\"))\n",
    "a=int(input(\"Enter the number a\\t:\"))\n",
    "b=int(input(\"Enter the number b\\t:\"))\n",
    "is_in(n,a,b)"
   ]
  },
  {
   "cell_type": "code",
   "execution_count": 24,
   "id": "72898f2d",
   "metadata": {},
   "outputs": [
    {
     "name": "stdout",
     "output_type": "stream",
     "text": [
      "1\n",
      "2\n",
      "3\n",
      "4\n"
     ]
    }
   ],
   "source": [
    "L=range(1,5)\n",
    "for i in L:\n",
    "    print(i)"
   ]
  },
  {
   "cell_type": "markdown",
   "id": "5eda16d5",
   "metadata": {},
   "source": [
    "# Q.7.Write a Python function that accepts a string and calculate the number of upper case letters and lower case letters. Sample String : 'The quick Brow Fox' Expected Output : No. of Upper case characters : 3 No. of Lower case Characters : 12"
   ]
  },
  {
   "cell_type": "code",
   "execution_count": 1,
   "id": "d5b98556",
   "metadata": {},
   "outputs": [
    {
     "name": "stdout",
     "output_type": "stream",
     "text": [
      "Enter the statement\t:my cat is good\n",
      "0\n",
      "11\n"
     ]
    }
   ],
   "source": [
    "def cal_cases(s):\n",
    "    n_Upper=0\n",
    "    n_Lower=0\n",
    "    for i in s:\n",
    "        if i.isupper():\n",
    "            n_Upper+=1\n",
    "        elif i.islower():\n",
    "            n_Lower+=1\n",
    "    print(n_Upper)\n",
    "    print(n_Lower)\n",
    "\n",
    "s=input(\"Enter the statement\\t:\")\n",
    "cal_cases(s)"
   ]
  },
  {
   "cell_type": "code",
   "execution_count": 2,
   "id": "4971416a",
   "metadata": {},
   "outputs": [
    {
     "name": "stdout",
     "output_type": "stream",
     "text": [
      "Enter the statement\t:my cat is good\n",
      "0\n",
      "11\n"
     ]
    }
   ],
   "source": [
    "def cal_cases(s):\n",
    "    n_Upper=0\n",
    "    n_Lower=0\n",
    "    for i in s:\n",
    "        if i.isupper():\n",
    "            n_Upper+=1\n",
    "        elif i.islower():\n",
    "            n_Lower+=1\n",
    "    print(n_Upper)\n",
    "    print(n_Lower)\n",
    "\n",
    "s=input(\"Enter the statement\\t:\")\n",
    "cal_cases(s)"
   ]
  },
  {
   "cell_type": "markdown",
   "id": "82727787",
   "metadata": {},
   "source": [
    "# Q.8.Write a Python function that takes a list and returns a new list with unique elements of the first list. Sample List : [1,2,3,3,3,3,4,5] Unique List : [1, 2, 3, 4, 5]"
   ]
  },
  {
   "cell_type": "code",
   "execution_count": 3,
   "id": "8825f1fa",
   "metadata": {},
   "outputs": [
    {
     "name": "stdout",
     "output_type": "stream",
     "text": [
      "Unique List: [1, 2, 3, 4, 5]\n"
     ]
    }
   ],
   "source": [
    "def set2(Sample_List):\n",
    "    temp_list=[]\n",
    "    for i in Sample_List:\n",
    "        if i not in temp_list:\n",
    "            temp_list.append(i)\n",
    "    return(temp_list)\n",
    "\n",
    "Sample_List=[1,2,3,3,3,3,4,5]\n",
    "print(\"Unique List:\",set2(Sample_List))"
   ]
  },
  {
   "cell_type": "markdown",
   "id": "cb444eb4",
   "metadata": {},
   "source": [
    "# Q.9.Write a Python function that takes a number as a parameter and check the number is prime or not. Note : A prime number (or a prime) is a natural number greater than 1 and that has no positive divisors other than 1 and itself."
   ]
  },
  {
   "cell_type": "code",
   "execution_count": 4,
   "id": "a7694d51",
   "metadata": {},
   "outputs": [
    {
     "name": "stdout",
     "output_type": "stream",
     "text": [
      "Enter the integer\t:5\n",
      "The given number 5 is prime.\n",
      "The given number 6 is not prime.\n",
      "The given number 7 is prime.\n",
      "The given number 8 is not prime.\n"
     ]
    }
   ],
   "source": [
    "def is_prime(n):\n",
    "    flag=0\n",
    "    for i in range(2,n): \n",
    "        if n%i==0:\n",
    "            print(\"The given number %d is not prime.\"%n)\n",
    "            flag=1\n",
    "            break\n",
    "\n",
    "    if flag==0:\n",
    "        print(\"The given number %d is prime.\"%n)\n",
    "\n",
    "n=int(input(\"Enter the integer\\t:\"))\n",
    "is_prime(n)\n",
    "is_prime(n+1)\n",
    "is_prime(n+2)\n",
    "is_prime(n+3)"
   ]
  },
  {
   "cell_type": "code",
   "execution_count": 5,
   "id": "efa3f1da",
   "metadata": {},
   "outputs": [
    {
     "name": "stdout",
     "output_type": "stream",
     "text": [
      "Enter the integer\t:8\n",
      "[1, 2, 4, 8]\n"
     ]
    }
   ],
   "source": [
    "def factors(n):\n",
    "    temp=[]\n",
    "    for i in range(1,n+1):\n",
    "        if n%i==0:\n",
    "            temp.append(i)\n",
    "    return temp\n",
    "\n",
    "n=int(input(\"Enter the integer\\t:\"))\n",
    "print(factors(n))"
   ]
  },
  {
   "cell_type": "markdown",
   "id": "9834b8c3",
   "metadata": {},
   "source": [
    "# Q.10Write a Python program to print the even numbers from a given list. Sample List : [1, 2, 3, 4, 5, 6, 7, 8, 9] Expected Result : [2, 4, 6, 8]"
   ]
  },
  {
   "cell_type": "code",
   "execution_count": null,
   "id": "24ce5fd9",
   "metadata": {},
   "outputs": [],
   "source": [
    "def is_evenlist(l):\n",
    "    evenlist = []\n",
    "    for n in l:\n",
    "        if n % 2 == 0:\n",
    "            evenlist.append(n)\n",
    "    return evenlist\n",
    "\n",
    "n=int(input(\"List Length\\t:\"))\n",
    "list1=[]\n",
    "for i in range(n):\n",
    "    list1.append(int(input(\"\")))\n",
    "    \n",
    "print(is_evenlist(list1))"
   ]
  },
  {
   "cell_type": "code",
   "execution_count": null,
   "id": "195dac17",
   "metadata": {},
   "outputs": [],
   "source": [
    "n=int(input(\"List Length\\t:\"))\n",
    "list1=[]\n",
    "for i in range(n):\n",
    "    list1.append(int(input(\"\")))\n",
    "\n",
    "print(list1)"
   ]
  },
  {
   "cell_type": "markdown",
   "id": "7cdd01c3",
   "metadata": {},
   "source": [
    "# Functions with Default Positional Arguments"
   ]
  },
  {
   "cell_type": "code",
   "execution_count": null,
   "id": "04e75c65",
   "metadata": {},
   "outputs": [],
   "source": [
    "def greet(name,msg):\n",
    "    print(\"Hello %s, %s!!!!!\"%(name,msg))\n",
    "    \n",
    "greet(\"Jagruti\",\"Good Afternoon\")\n"
   ]
  },
  {
   "cell_type": "code",
   "execution_count": null,
   "id": "66e835b0",
   "metadata": {},
   "outputs": [],
   "source": [
    "def greet(name,msg=\"Morning\"):# default argument\n",
    "    print(\"Hello %s, %s!!!!!\"%(name,msg))\n",
    "    \n",
    "greet(\"Jagruti\",\"Good Afternoon\")"
   ]
  },
  {
   "cell_type": "code",
   "execution_count": null,
   "id": "42f409a1",
   "metadata": {},
   "outputs": [],
   "source": [
    "greet(msg=\"Good Afternoon\",name=\"Jagruti\")  \n",
    "# Positions doesnt matter if variable names are provided"
   ]
  },
  {
   "cell_type": "code",
   "execution_count": null,
   "id": "8aab0d52",
   "metadata": {},
   "outputs": [],
   "source": [
    "greet(name=\"Jagruti\")"
   ]
  },
  {
   "cell_type": "code",
   "execution_count": null,
   "id": "75bf7b56",
   "metadata": {},
   "outputs": [],
   "source": [
    "fun=lambda x,y: x**2+y\n",
    "fun(2,3)"
   ]
  },
  {
   "cell_type": "code",
   "execution_count": null,
   "id": "22d7ecd7",
   "metadata": {},
   "outputs": [],
   "source": []
  }
 ],
 "metadata": {
  "kernelspec": {
   "display_name": "Python 3 (ipykernel)",
   "language": "python",
   "name": "python3"
  },
  "language_info": {
   "codemirror_mode": {
    "name": "ipython",
    "version": 3
   },
   "file_extension": ".py",
   "mimetype": "text/x-python",
   "name": "python",
   "nbconvert_exporter": "python",
   "pygments_lexer": "ipython3",
   "version": "3.10.2"
  }
 },
 "nbformat": 4,
 "nbformat_minor": 5
}
