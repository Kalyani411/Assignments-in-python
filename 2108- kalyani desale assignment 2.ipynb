{
 "cells": [
  {
   "cell_type": "code",
   "execution_count": null,
   "id": "4ff155f3",
   "metadata": {},
   "outputs": [],
   "source": [
    "# 2108-kalyani desale"
   ]
  },
  {
   "cell_type": "markdown",
   "id": "5dd08651",
   "metadata": {},
   "source": [
    "# sampling methods practical"
   ]
  },
  {
   "cell_type": "markdown",
   "id": "24c3aeab",
   "metadata": {},
   "source": [
    "# TOPIC-1: INTRODUCTION TO DIFFERENT STATISTICAL SOFTWARE PACKAGES"
   ]
  },
  {
   "cell_type": "code",
   "execution_count": null,
   "id": "e43e7334",
   "metadata": {},
   "outputs": [],
   "source": [
    "#Construct the following graphs of the following data\n",
    "58.2  66.9  53.5  53.0  53.2  52.5  53.4  56.5  65.3  70.7 55.3\n",
    "53.4  52.1  51.5  51.5  52.4  53.3  55.5  61.2  69.6 69.3  58.5  55.3\n",
    "53.6  52.3  51.5  51.7  51.5  52.5  57.1 63.6  68.8  68.9  60.1  55.6\n",
    "53.9  53.3  53.1  53.5  53.5 53.9  57.1  64.7  69.4 70.3  62.6  57.9 \n",
    "55.8  54.8  54.2 54.6  54.3  54.8  58.1  68.1  73.3  75.5  66.4  60.5 \n",
    "57.7 \n",
    "i) Steam & leaf plot \n",
    "ii) Histogram \n",
    "iii) Dot plot \n",
    "iv) Box plot "
   ]
  },
  {
   "cell_type": "code",
   "execution_count": 33,
   "id": "347d35c5",
   "metadata": {},
   "outputs": [],
   "source": [
    "import matplotlib.pyplot as plt\n",
    "import numpy as np"
   ]
  },
  {
   "cell_type": "code",
   "execution_count": 32,
   "id": "1629b822",
   "metadata": {},
   "outputs": [
    {
     "name": "stdout",
     "output_type": "stream",
     "text": [
      "(58.2, 66.9, 53.5, 53.0, 53.2, 52.5, 53.4, 56.5, 65.3, 70.7, 55.3, 53.4, 52.1, 51.5, 51.5, 52.4, 53.3, 55.5, 61.2, 69.6, 69.3, 58.5, 55.3, 53.6, 52.3, 51.5, 51.7, 51.5, 52.5, 57.1, 63.6, 68.8, 68.9, 60.1, 55.6, 53.9, 53.3, 53.1, 53.5, 53.5, 53.9, 57.1, 64.7, 69.4, 70.3, 62.6, 57.9, 55.8, 54.8, 54.2, 54.6, 54.3, 54.8, 58.1, 68.1, 73.3, 75.5, 66.4, 60.5, 57.7)\n"
     ]
    }
   ],
   "source": [
    "x=(58.2, 66.9, 53.5, 53.0, 53.2, 52.5, 53.4, 56.5, 65.3, 70.7, 55.3,\n",
    "53.4, 52.1, 51.5, 51.5, 52.4, 53.3, 55.5, 61.2, 69.6, 69.3, 58.5, 55.3,\n",
    "53.6, 52.3, 51.5, 51.7, 51.5, 52.5, 57.1, 63.6, 68.8, 68.9, 60.1, 55.6,\n",
    "53.9, 53.3, 53.1, 53.5, 53.5, 53.9, 57.1, 64.7, 69.4, 70.3, 62.6, 57.9, \n",
    "55.8, 54.8, 54.2, 54.6, 54.3, 54.8, 58.1, 68.1, 73.3, 75.5, 66.4, 60.5, \n",
    "57.7 )\n",
    "print(x)"
   ]
  },
  {
   "cell_type": "code",
   "execution_count": 34,
   "id": "dfd357e8",
   "metadata": {},
   "outputs": [
    {
     "data": {
      "text/plain": [
       "<function matplotlib.pyplot.show(close=None, block=None)>"
      ]
     },
     "execution_count": 34,
     "metadata": {},
     "output_type": "execute_result"
    },
    {
     "data": {
      "image/png": "[encoded data removed]",
      "text/plain": [
       "<Figure size 432x288 with 1 Axes>"
      ]
     },
     "metadata": {
      "needs_background": "light"
     },
     "output_type": "display_data"
    }
   ],
   "source": [
    "# histogram\n",
    "plt.hist(x)\n",
    "plt.show"
   ]
  },
  {
   "cell_type": "code",
   "execution_count": 35,
   "id": "7a1a2977",
   "metadata": {},
   "outputs": [
    {
     "data": {
      "text/plain": [
       "<function matplotlib.pyplot.show(close=None, block=None)>"
      ]
     },
     "execution_count": 35,
     "metadata": {},
     "output_type": "execute_result"
    },
    {
     "data": {
      "image/png": "[encoded data removed]",
      "text/plain": [
       "<Figure size 432x288 with 1 Axes>"
      ]
     },
     "metadata": {
      "needs_background": "light"
     },
     "output_type": "display_data"
    }
   ],
   "source": [
    "# dotplot\n",
    "plt.plot(x,'ro')\n",
    "plt.show"
   ]
  },
  {
   "cell_type": "code",
   "execution_count": 36,
   "id": "c3717fa6",
   "metadata": {},
   "outputs": [
    {
     "data": {
      "text/plain": [
       "<function matplotlib.pyplot.show(close=None, block=None)>"
      ]
     },
     "execution_count": 36,
     "metadata": {},
     "output_type": "execute_result"
    },
    {
     "data": {
      "image/png": "[encoded data removed]",
      "text/plain": [
       "<Figure size 432x288 with 1 Axes>"
      ]
     },
     "metadata": {
      "needs_background": "light"
     },
     "output_type": "display_data"
    }
   ],
   "source": [
    "# bocplot\n",
    "plt.boxplot(x)\n",
    "plt.show\n"
   ]
  },
  {
   "cell_type": "markdown",
   "id": "31832c54",
   "metadata": {},
   "source": [
    "# TOPIC- 2:RANDOM SAMPLING AND SAMPLING DISTRIBUTION"
   ]
  },
  {
   "cell_type": "code",
   "execution_count": null,
   "id": "63b91af2",
   "metadata": {},
   "outputs": [],
   "source": [
    "QUE 2\n",
    "Draw 10,000 samples of size 25 from Normal (100, 2 3 )\n",
    "and study the sampling distribution of following statistics \n",
    "for n =5, 10, 25. \n",
    "1.Y bar\n",
    "2.Sy^2\n",
    "3.min\n",
    "4.max\n",
    "5.range\n"
   ]
  },
  {
   "cell_type": "code",
   "execution_count": null,
   "id": "4ec18197",
   "metadata": {},
   "outputs": [],
   "source": []
  },
  {
   "cell_type": "code",
   "execution_count": 6,
   "id": "69e7097b",
   "metadata": {},
   "outputs": [],
   "source": [
    "import numpy as np\n",
    "import pandas as pd"
   ]
  },
  {
   "cell_type": "code",
   "execution_count": 15,
   "id": "5354419b",
   "metadata": {},
   "outputs": [
    {
     "data": {
      "text/plain": [
       "array([[100.63223034,  97.00865495,  95.59552083, ..., 104.00595295,\n",
       "        101.78232275,  99.72801319],\n",
       "       [105.18685849, 100.1855498 , 103.07177688, ..., 102.76769732,\n",
       "        100.11975271, 101.53211462],\n",
       "       [102.50504139,  98.50919437, 102.74076346, ...,  96.64417803,\n",
       "        106.13007448, 102.13793353],\n",
       "       ...,\n",
       "       [ 95.37457857, 101.86527525,  98.91733303, ...,  99.83324389,\n",
       "        100.9931653 , 101.6886425 ],\n",
       "       [101.0373599 ,  99.65694949, 101.38163435, ..., 100.32906397,\n",
       "         99.43415449,  96.98901848],\n",
       "       [101.50532826,  95.42485927, 105.16697567, ...,  99.57946182,\n",
       "        104.849922  ,  99.37484081]])"
      ]
     },
     "execution_count": 15,
     "metadata": {},
     "output_type": "execute_result"
    }
   ],
   "source": [
    "pop1=np.random.normal(100,3,(10000,25))\n",
    "pop1"
   ]
  },
  {
   "cell_type": "code",
   "execution_count": 16,
   "id": "ba1eed04",
   "metadata": {},
   "outputs": [
    {
     "data": {
      "text/html": [
       "<div>\n",
       "<style scoped>\n",
       "    .dataframe tbody tr th:only-of-type {\n",
       "        vertical-align: middle;\n",
       "    }\n",
       "\n",
       "    .dataframe tbody tr th {\n",
       "        vertical-align: top;\n",
       "    }\n",
       "\n",
       "    .dataframe thead th {\n",
       "        text-align: right;\n",
       "    }\n",
       "</style>\n",
       "<table border=\"1\" class=\"dataframe\">\n",
       "  <thead>\n",
       "    <tr style=\"text-align: right;\">\n",
       "      <th></th>\n",
       "      <th>En5</th>\n",
       "      <th>Vn5</th>\n",
       "      <th>En10</th>\n",
       "      <th>Vn10</th>\n",
       "      <th>En25</th>\n",
       "      <th>Vn25</th>\n",
       "    </tr>\n",
       "  </thead>\n",
       "  <tbody>\n",
       "    <tr>\n",
       "      <th>Ybar</th>\n",
       "      <td>0.0</td>\n",
       "      <td>0.0</td>\n",
       "      <td>0.0</td>\n",
       "      <td>0.0</td>\n",
       "      <td>0.0</td>\n",
       "      <td>0.0</td>\n",
       "    </tr>\n",
       "    <tr>\n",
       "      <th>S2Y</th>\n",
       "      <td>0.0</td>\n",
       "      <td>0.0</td>\n",
       "      <td>0.0</td>\n",
       "      <td>0.0</td>\n",
       "      <td>0.0</td>\n",
       "      <td>0.0</td>\n",
       "    </tr>\n",
       "    <tr>\n",
       "      <th>Min</th>\n",
       "      <td>0.0</td>\n",
       "      <td>0.0</td>\n",
       "      <td>0.0</td>\n",
       "      <td>0.0</td>\n",
       "      <td>0.0</td>\n",
       "      <td>0.0</td>\n",
       "    </tr>\n",
       "    <tr>\n",
       "      <th>Max</th>\n",
       "      <td>0.0</td>\n",
       "      <td>0.0</td>\n",
       "      <td>0.0</td>\n",
       "      <td>0.0</td>\n",
       "      <td>0.0</td>\n",
       "      <td>0.0</td>\n",
       "    </tr>\n",
       "    <tr>\n",
       "      <th>Range</th>\n",
       "      <td>0.0</td>\n",
       "      <td>0.0</td>\n",
       "      <td>0.0</td>\n",
       "      <td>0.0</td>\n",
       "      <td>0.0</td>\n",
       "      <td>0.0</td>\n",
       "    </tr>\n",
       "  </tbody>\n",
       "</table>\n",
       "</div>"
      ],
      "text/plain": [
       "       En5  Vn5  En10  Vn10  En25  Vn25\n",
       "Ybar   0.0  0.0   0.0   0.0   0.0   0.0\n",
       "S2Y    0.0  0.0   0.0   0.0   0.0   0.0\n",
       "Min    0.0  0.0   0.0   0.0   0.0   0.0\n",
       "Max    0.0  0.0   0.0   0.0   0.0   0.0\n",
       "Range  0.0  0.0   0.0   0.0   0.0   0.0"
      ]
     },
     "execution_count": 16,
     "metadata": {},
     "output_type": "execute_result"
    }
   ],
   "source": [
    "df=pd.DataFrame(np.zeros((5,6)))\n",
    "df.columns=['En5','Vn5','En10','Vn10','En25','Vn25']\n",
    "df.index=['Ybar','S2Y','Min','Max','Range']\n",
    "df"
   ]
  },
  {
   "cell_type": "code",
   "execution_count": 17,
   "id": "22d6ea65",
   "metadata": {},
   "outputs": [
    {
     "data": {
      "text/html": [
       "<div>\n",
       "<style scoped>\n",
       "    .dataframe tbody tr th:only-of-type {\n",
       "        vertical-align: middle;\n",
       "    }\n",
       "\n",
       "    .dataframe tbody tr th {\n",
       "        vertical-align: top;\n",
       "    }\n",
       "\n",
       "    .dataframe thead th {\n",
       "        text-align: right;\n",
       "    }\n",
       "</style>\n",
       "<table border=\"1\" class=\"dataframe\">\n",
       "  <thead>\n",
       "    <tr style=\"text-align: right;\">\n",
       "      <th></th>\n",
       "      <th>En5</th>\n",
       "      <th>Vn5</th>\n",
       "      <th>En10</th>\n",
       "      <th>Vn10</th>\n",
       "      <th>En25</th>\n",
       "      <th>Vn25</th>\n",
       "    </tr>\n",
       "  </thead>\n",
       "  <tbody>\n",
       "    <tr>\n",
       "      <th>Ybar</th>\n",
       "      <td>99.982339</td>\n",
       "      <td>1.856647</td>\n",
       "      <td>99.993590</td>\n",
       "      <td>0.922501</td>\n",
       "      <td>100.000603</td>\n",
       "      <td>0.368896</td>\n",
       "    </tr>\n",
       "    <tr>\n",
       "      <th>S2Y</th>\n",
       "      <td>8.980282</td>\n",
       "      <td>39.886213</td>\n",
       "      <td>9.033818</td>\n",
       "      <td>17.904926</td>\n",
       "      <td>9.028498</td>\n",
       "      <td>6.844284</td>\n",
       "    </tr>\n",
       "    <tr>\n",
       "      <th>Min</th>\n",
       "      <td>96.496040</td>\n",
       "      <td>16.305249</td>\n",
       "      <td>95.362111</td>\n",
       "      <td>24.631443</td>\n",
       "      <td>94.114001</td>\n",
       "      <td>36.949642</td>\n",
       "    </tr>\n",
       "    <tr>\n",
       "      <th>Max</th>\n",
       "      <td>103.461032</td>\n",
       "      <td>16.103419</td>\n",
       "      <td>104.628715</td>\n",
       "      <td>24.566943</td>\n",
       "      <td>105.914862</td>\n",
       "      <td>37.270054</td>\n",
       "    </tr>\n",
       "    <tr>\n",
       "      <th>Range</th>\n",
       "      <td>6.964992</td>\n",
       "      <td>55.224358</td>\n",
       "      <td>9.266603</td>\n",
       "      <td>91.549661</td>\n",
       "      <td>11.800861</td>\n",
       "      <td>143.722804</td>\n",
       "    </tr>\n",
       "  </tbody>\n",
       "</table>\n",
       "</div>"
      ],
      "text/plain": [
       "              En5        Vn5        En10       Vn10        En25        Vn25\n",
       "Ybar    99.982339   1.856647   99.993590   0.922501  100.000603    0.368896\n",
       "S2Y      8.980282  39.886213    9.033818  17.904926    9.028498    6.844284\n",
       "Min     96.496040  16.305249   95.362111  24.631443   94.114001   36.949642\n",
       "Max    103.461032  16.103419  104.628715  24.566943  105.914862   37.270054\n",
       "Range    6.964992  55.224358    9.266603  91.549661   11.800861  143.722804"
      ]
     },
     "execution_count": 17,
     "metadata": {},
     "output_type": "execute_result"
    }
   ],
   "source": [
    "n=[5,10,25]\n",
    "for i in range(3):\n",
    "    x=pop1[:,:n[i]]\n",
    "    df.iloc[0,2*i]=np.mean(np.mean(x,axis=1))\n",
    "    df.iloc[0,2*i+1]=np.mean((np.mean(x,axis=1)-100)**2)\n",
    "    \n",
    "    df.iloc[1,2*i]=np.mean(np.var(x,axis=1,ddof=1))\n",
    "    df.iloc[1,2*i+1]=np.mean((np.var(x,axis=1,ddof=1)-9)**2)\n",
    "    \n",
    "    df.iloc[2,2*i]=np.mean(np.min(x,axis=1))\n",
    "    df.iloc[2,2*i+1]=np.mean((np.min(x,axis=1)-100)**2)\n",
    "\n",
    "    df.iloc[3,2*i]=np.mean(np.max(x,axis=1))\n",
    "    df.iloc[3,2*i+1]=np.mean((np.max(x,axis=1)-100)**2)\n",
    "\n",
    "    df.iloc[4,2*i]=np.mean(np.max(x,axis=1)-np.min(x,axis=1))\n",
    "    df.iloc[4,2*i+1]=np.mean((np.max(x,axis=1)-np.min(x,axis=1))**2)\n",
    "    \n",
    "df"
   ]
  },
  {
   "cell_type": "code",
   "execution_count": null,
   "id": "c3b17d61",
   "metadata": {},
   "outputs": [],
   "source": [
    "QUE -2\n",
    "Generate random sample of size 10,000 from Poisson(). \n",
    "Treat this generated sample data as characteristic \n",
    "values of study variables of the population of the size 10,000.\n",
    "Now, draw 5 random samples of size 100 each from this population \n",
    "using SRSWOR Obtain estimate of population mean based on each sample\n",
    "data by using sample mean as an estimator for population mean. \n",
    "Also find the amount of sampling error from your estimates."
   ]
  },
  {
   "cell_type": "code",
   "execution_count": 12,
   "id": "a9c4f59c",
   "metadata": {},
   "outputs": [
    {
     "name": "stdout",
     "output_type": "stream",
     "text": [
      "Sample Mean of 1 sample is 3.160\n",
      "Sample Mean of 2 sample is 2.940\n",
      "Sample Mean of 3 sample is 3.020\n",
      "Sample Mean of 4 sample is 3.250\n",
      "Sample Mean of 5 sample is 2.990\n",
      "Population Mean is 3.011\n",
      "Sampling Errors are as follows: [0.1485 0.0715 0.0085 0.2385 0.0215]\n"
     ]
    }
   ],
   "source": [
    "population = pd.DataFrame({'id':np.arange(1,10001),'X':np.random.poisson(3,10000)})\n",
    "population.head()   \n",
    "sample_means=np.zeros(5)\n",
    "pop_mean=np.mean(population.X)\n",
    "for i in range(5):\n",
    "    temp=population.X[np.random.choice(10000,100)]\n",
    "    sample_means[i]=np.mean(temp)\n",
    "    print('Sample Mean of %d sample is %1.3f'%(i+1,sample_means[i]))\n",
    "print('Population Mean is %1.3f'%(pop_mean))\n",
    "print('Sampling Errors are as follows:',abs(sample_means-pop_mean))"
   ]
  },
  {
   "cell_type": "markdown",
   "id": "7dd445c5",
   "metadata": {},
   "source": [
    "# TOPIC-3: Estimation of population parameters in SRS."
   ]
  },
  {
   "cell_type": "code",
   "execution_count": 21,
   "id": "788fe2b2",
   "metadata": {},
   "outputs": [],
   "source": [
    "import statistics"
   ]
  },
  {
   "cell_type": "code",
   "execution_count": 23,
   "id": "6026429d",
   "metadata": {},
   "outputs": [],
   "source": [
    "from statistics import variance"
   ]
  },
  {
   "cell_type": "code",
   "execution_count": 24,
   "id": "1ecbec99",
   "metadata": {},
   "outputs": [
    {
     "name": "stdout",
     "output_type": "stream",
     "text": [
      "30\n",
      "14848\n",
      "3.466666666666667\n",
      "51473.066666666666\n"
     ]
    }
   ],
   "source": [
    "#Que 2\n",
    "##Que 3\n",
    "x=(5,6,3,3,2,3,3,3,4,4,3,2,7,4,3,5,4,4,3,3,4,3,3,1,2,4,3,4,2,4)\n",
    "print(len(x))\n",
    "N=14848\n",
    "print(N)\n",
    "mean=statistics.mean(x)\n",
    "print(mean)\n",
    "population_total=N*mean\n",
    "print(population_total)"
   ]
  },
  {
   "cell_type": "markdown",
   "id": "a9420cb2",
   "metadata": {},
   "source": [
    "# TOPIC-4: Determination of Sample size and Estimation of population proportion."
   ]
  },
  {
   "cell_type": "code",
   "execution_count": 25,
   "id": "8089b71a",
   "metadata": {},
   "outputs": [
    {
     "name": "stdout",
     "output_type": "stream",
     "text": [
      "1.959964\n",
      "91.63626045044839\n",
      "95.9884537963838\n"
     ]
    }
   ],
   "source": [
    "#Que 1\n",
    "N=2000\n",
    "sy2=10000\n",
    "e=20\n",
    "a=0.05/2\n",
    "z= 1.959964\n",
    "print(z)\n",
    "n_WOR=(N*(z**2)*sy2)/((N*e**2)+(z**2*sy2))\n",
    "print(n_WOR)\n",
    "n_WR=((N-1)*(z**2)*sy2)/(N*e**2)\n",
    "print(n_WR)"
   ]
  },
  {
   "cell_type": "markdown",
   "id": "6de5630a",
   "metadata": {},
   "source": [
    "# TOPIC-5: Stratified random samplinf and estimation of population parameter"
   ]
  },
  {
   "cell_type": "code",
   "execution_count": null,
   "id": "5126a5a7",
   "metadata": {},
   "outputs": [],
   "source": [
    "#Que 2\n",
    "#From a population with N=5000 and 3 strata with sizes 1000, 1500, N1 = N2 = N3\n",
    "= 2500.In the following table sample y-values are given\n",
    "#Estimate (i) population mean (ii) S.E. of your estimate of \n",
    "population mean by using this sample."
   ]
  },
  {
   "cell_type": "code",
   "execution_count": 26,
   "id": "69248fb7",
   "metadata": {},
   "outputs": [],
   "source": [
    "s1=np.array([5, 4, 1, 2, 4, 3, 7, 5, 0, 3])\n",
    "s2=np.array([11, 9, 13, 9, 4, 5, 5, 14, 8, 9, 11, 7, 10, 14, 7])\n",
    "s3=np.array([22, 16, 18, 18, 23, 20, 20, 19, 20, 16, 21, 20, 26, 20, 26, 18, 21, 17, 22, 21])\n",
    "N1, N2, N3=1000, 1500, 2500\n",
    "n1, n2, n3= 10, 15, 20\n",
    "N=N1+N2+N3\n",
    "n=n1+n2+n3\n",
    "\n",
    "nh=np.array([10,15,20])\n",
    "Nh=np.array([1000,1500,2500])\n",
    "\n",
    "ybarh=np.array([np.mean(s1),np.mean(s2),np.mean(s3)])\n",
    "ybarh\n",
    "\n",
    "Wh=np.array([N1,N2,N3])/N\n",
    "\n",
    "ybarst=sum(Wh*ybarh)\n",
    "\n",
    "S2h=np.array([np.var(s1,ddof=1),np.var(s2,ddof=1),np.var(s3,ddof=1)])\n",
    "S2h\n",
    "\n",
    "se_st=np.sqrt(sum(Wh*Wh*S2h*(1/nh-1/Nh)))"
   ]
  },
  {
   "cell_type": "code",
   "execution_count": 27,
   "id": "20840677",
   "metadata": {},
   "outputs": [
    {
     "data": {
      "text/plain": [
       "13.5"
      ]
     },
     "execution_count": 27,
     "metadata": {},
     "output_type": "execute_result"
    }
   ],
   "source": [
    "ybarst"
   ]
  },
  {
   "cell_type": "code",
   "execution_count": 28,
   "id": "8364ce47",
   "metadata": {},
   "outputs": [
    {
     "data": {
      "text/plain": [
       "0.41407016949202935"
      ]
     },
     "execution_count": 28,
     "metadata": {},
     "output_type": "execute_result"
    }
   ],
   "source": [
    "se_st"
   ]
  },
  {
   "cell_type": "markdown",
   "id": "eddb0b40",
   "metadata": {},
   "source": [
    "# Topic-6: ‘Allocations’ & ‘Estimation of population parameters’in stratified sampling"
   ]
  },
  {
   "cell_type": "code",
   "execution_count": 29,
   "id": "d6284efe",
   "metadata": {},
   "outputs": [
    {
     "name": "stdout",
     "output_type": "stream",
     "text": [
      "[50000, 35000, 25000]\n",
      "[2000, 1500, 1500]\n",
      "110000\n",
      "[0.45454545454545453, 0.3181818181818182, 0.22727272727272727]\n",
      "[50, 790, 450]\n"
     ]
    },
    {
     "ename": "NameError",
     "evalue": "name 'p_h_har' is not defined",
     "output_type": "error",
     "traceback": [
      "\u001b[1;31m---------------------------------------------------------------------------\u001b[0m",
      "\u001b[1;31mNameError\u001b[0m                                 Traceback (most recent call last)",
      "Input \u001b[1;32mIn [29]\u001b[0m, in \u001b[0;36m<module>\u001b[1;34m\u001b[0m\n\u001b[0;32m     11\u001b[0m \u001b[38;5;28mprint\u001b[39m(a_h)\n\u001b[0;32m     12\u001b[0m p_h_hat\u001b[38;5;241m=\u001b[39m[\u001b[38;5;241m50\u001b[39m\u001b[38;5;241m/\u001b[39m\u001b[38;5;241m2000\u001b[39m,\u001b[38;5;241m790\u001b[39m\u001b[38;5;241m/\u001b[39m\u001b[38;5;241m1500\u001b[39m,\u001b[38;5;241m450\u001b[39m\u001b[38;5;241m/\u001b[39m\u001b[38;5;241m1500\u001b[39m]\n\u001b[1;32m---> 13\u001b[0m \u001b[38;5;28mprint\u001b[39m(\u001b[43mp_h_har\u001b[49m)\n\u001b[0;32m     14\u001b[0m p_h_hat_st\u001b[38;5;241m=\u001b[39m\u001b[38;5;28msum\u001b[39m(w_h\u001b[38;5;241m*\u001b[39mp_h_hat);p_h_hat_st\n\u001b[0;32m     15\u001b[0m cat(\u001b[38;5;124m\"\u001b[39m\u001b[38;5;124mEstimation of population proportion is \u001b[39m\u001b[38;5;124m\"\u001b[39m,p_h_hat_st)\n",
      "\u001b[1;31mNameError\u001b[0m: name 'p_h_har' is not defined"
     ]
    }
   ],
   "source": [
    "#Que 1\n",
    "N_h=[50000,35000,25000]\n",
    "print(N_h)\n",
    "n_h=[2000,1500,1500]\n",
    "print(n_h)\n",
    "N=sum(N_h)\n",
    "print(N)\n",
    "w_h=[50000/110000,35000/110000,25000/110000]\n",
    "print(w_h)\n",
    "a_h=[50,790,450]\n",
    "print(a_h)\n",
    "p_h_hat=[50/2000,790/1500,450/1500]\n",
    "print(p_h_har)\n",
    "p_h_hat_st=sum(w_h*p_h_hat);p_h_hat_st\n",
    "cat(\"Estimation of population proportion is \",p_h_hat_st)\n",
    "b_h=(N_h-n_h)/(N_h*(n_h-1));b_h\n",
    "var_phat_st=sum(w_h^2*b_h*p_h_hat*(1-p_h_hat));var_phat_st\n",
    "SE_p_hat_st=sqrt(var_phat_st);SE_p_hat_st\n",
    "cbind(p_h_hat_st,SE_p_hat_st)"
   ]
  },
  {
   "cell_type": "markdown",
   "id": "5d3b3e86",
   "metadata": {},
   "source": [
    "# TOPIC-7: Estimation of population parameters using Ratio method of estimation"
   ]
  },
  {
   "cell_type": "code",
   "execution_count": null,
   "id": "ac7e4c77",
   "metadata": {},
   "outputs": [],
   "source": [
    "# Que 1 The number of laborers x (in thousands) and the quantity of raw\n",
    "materials y (in lakhs of bales) are given below for 20 jute mills.\n",
    "Draw a sample of 5 units by SRSWOR. Estimate the\n",
    "# total amount of raw materials consumed by the 20 mills by \n",
    "(i) Sample mean estimator (ii) Ratio estimator. Compare the estim"
   ]
  },
  {
   "cell_type": "code",
   "execution_count": 39,
   "id": "50918b1c",
   "metadata": {},
   "outputs": [
    {
     "ename": "ModuleNotFoundError",
     "evalue": "No module named 'sample'",
     "output_type": "error",
     "traceback": [
      "\u001b[1;31m---------------------------------------------------------------------------\u001b[0m",
      "\u001b[1;31mModuleNotFoundError\u001b[0m                       Traceback (most recent call last)",
      "Input \u001b[1;32mIn [39]\u001b[0m, in \u001b[0;36m<module>\u001b[1;34m\u001b[0m\n\u001b[1;32m----> 1\u001b[0m \u001b[38;5;28;01mimport\u001b[39;00m \u001b[38;5;21;01msample\u001b[39;00m\n",
      "\u001b[1;31mModuleNotFoundError\u001b[0m: No module named 'sample'"
     ]
    }
   ],
   "source": [
    "import sample\n"
   ]
  },
  {
   "cell_type": "code",
   "execution_count": 38,
   "id": "2d81ba5e",
   "metadata": {},
   "outputs": [
    {
     "ename": "NameError",
     "evalue": "name 'sample' is not defined",
     "output_type": "error",
     "traceback": [
      "\u001b[1;31m---------------------------------------------------------------------------\u001b[0m",
      "\u001b[1;31mNameError\u001b[0m                                 Traceback (most recent call last)",
      "Input \u001b[1;32mIn [38]\u001b[0m, in \u001b[0;36m<module>\u001b[1;34m\u001b[0m\n\u001b[0;32m      1\u001b[0m x\u001b[38;5;241m=\u001b[39m[\u001b[38;5;241m368\u001b[39m,\u001b[38;5;241m384\u001b[39m,\u001b[38;5;241m361\u001b[39m,\u001b[38;5;241m347\u001b[39m,\u001b[38;5;241m403\u001b[39m,\u001b[38;5;241m529\u001b[39m,\u001b[38;5;241m703\u001b[39m,\u001b[38;5;241m396\u001b[39m,\u001b[38;5;241m473\u001b[39m,\u001b[38;5;241m509\u001b[39m,\u001b[38;5;241m512\u001b[39m,\u001b[38;5;241m503\u001b[39m,\u001b[38;5;241m472\u001b[39m,\u001b[38;5;241m429\u001b[39m,\u001b[38;5;241m387\u001b[39m,\u001b[38;5;241m376\u001b[39m,\u001b[38;5;241m412\u001b[39m,\u001b[38;5;241m345\u001b[39m,\u001b[38;5;241m297\u001b[39m,\u001b[38;5;241m633\u001b[39m]\n\u001b[0;32m      2\u001b[0m y\u001b[38;5;241m=\u001b[39m[\u001b[38;5;241m31\u001b[39m,\u001b[38;5;241m33\u001b[39m,\u001b[38;5;241m37\u001b[39m,\u001b[38;5;241m39\u001b[39m,\u001b[38;5;241m43\u001b[39m,\u001b[38;5;241m61\u001b[39m,\u001b[38;5;241m68\u001b[39m,\u001b[38;5;241m42\u001b[39m,\u001b[38;5;241m41\u001b[39m,\u001b[38;5;241m49\u001b[39m,\u001b[38;5;241m31\u001b[39m,\u001b[38;5;241m29\u001b[39m,\u001b[38;5;241m38\u001b[39m,\u001b[38;5;241m41\u001b[39m,\u001b[38;5;241m40\u001b[39m,\u001b[38;5;241m38\u001b[39m,\u001b[38;5;241m42\u001b[39m,\u001b[38;5;241m45\u001b[39m,\u001b[38;5;241m32\u001b[39m,\u001b[38;5;241m50\u001b[39m]\n\u001b[1;32m----> 3\u001b[0m x1\u001b[38;5;241m=\u001b[39m(\u001b[43msample\u001b[49m(x,\u001b[38;5;241m5\u001b[39m))\n\u001b[0;32m      4\u001b[0m \u001b[38;5;28mprint\u001b[39m(x1)\n\u001b[0;32m      5\u001b[0m y1\u001b[38;5;241m=\u001b[39m(sample(y,\u001b[38;5;241m5\u001b[39m))\n",
      "\u001b[1;31mNameError\u001b[0m: name 'sample' is not defined"
     ]
    }
   ],
   "source": [
    "x=[368,384,361,347,403,529,703,396,473,509,512,503,472,429,387,376,412,345,297,633]\n",
    "y=[31,33,37,39,43,61,68,42,41,49,31,29,38,41,40,38,42,45,32,50]\n",
    "x1=(sample(x,5))\n",
    "print(x1)\n",
    "y1=(sample(y,5))\n",
    "print(y1)\n",
    "n=5;N=20\n",
    "xbar=statistics.mean(x)\n",
    "print(xbar)\n",
    "Xbar=statistics.mean(x1)\n",
    "print(Xbar)\n",
    "Ybar=statistics.mean(y1)\n",
    "print(Ybar)\n",
    "ythat=N*Ybar\n",
    "print(ythat)\n",
    "sx=statistics.variance(x)*(n-1)\n",
    "print(sx)\n",
    "sy=statistics.variance(y)*(n-1)\n",
    "print(sy)\n",
    "sxy=np.cov(x,y)*(n-1)\n",
    "print(sxy)\n",
    "Rhat=Ybar/Xbar\n",
    "Rhat\n",
    "Ybar_R=Rhat*xbar\n",
    "print(Ybar_R)\n",
    "ythat_R=N*Ybar_R\n",
    "print(ythat_R)\n",
    "betahat=sxy/sx\n",
    "print(betahat)\n",
    "Ybar_reg=Ybar+betahat*(xbar-Xbar)\n",
    "print( Ybar_reg)\n",
    "MSE_Ythat_R=N**2*(1/n-1/N)*(sy+betahat**2*sx-2*betahat*sxy)\n",
    "print(MSE_Ythat_R)\n",
    "sh2=np.var(y)\n",
    "print(sh2)\n",
    "C=N**2*(1/n-1/N)*sh2\n",
    "print(MSE_Ythat_R)\n",
    "\n"
   ]
  },
  {
   "cell_type": "code",
   "execution_count": null,
   "id": "8291002a",
   "metadata": {},
   "outputs": [],
   "source": []
  },
  {
   "cell_type": "code",
   "execution_count": null,
   "id": "820ab2e4",
   "metadata": {},
   "outputs": [],
   "source": []
  },
  {
   "cell_type": "code",
   "execution_count": null,
   "id": "13611241",
   "metadata": {},
   "outputs": [],
   "source": []
  },
  {
   "cell_type": "code",
   "execution_count": null,
   "id": "a92f1083",
   "metadata": {},
   "outputs": [],
   "source": []
  },
  {
   "cell_type": "code",
   "execution_count": null,
   "id": "2267d48a",
   "metadata": {},
   "outputs": [],
   "source": []
  },
  {
   "cell_type": "code",
   "execution_count": null,
   "id": "ea6ae335",
   "metadata": {},
   "outputs": [],
   "source": []
  }
 ],
 "metadata": {
  "kernelspec": {
   "display_name": "Python 3 (ipykernel)",
   "language": "python",
   "name": "python3"
  },
  "language_info": {
   "codemirror_mode": {
    "name": "ipython",
    "version": 3
   },
   "file_extension": ".py",
   "mimetype": "text/x-python",
   "name": "python",
   "nbconvert_exporter": "python",
   "pygments_lexer": "ipython3",
   "version": "3.10.2"
  }
 },
 "nbformat": 4,
 "nbformat_minor": 5
}
